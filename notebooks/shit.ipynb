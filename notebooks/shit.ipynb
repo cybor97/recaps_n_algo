{
 "cells": [
  {
   "cell_type": "markdown",
   "metadata": {},
   "source": [
    "# Nothing  to see here, just a regular shitbook"
   ]
  },
  {
   "cell_type": "markdown",
   "metadata": {},
   "source": [
    "## Deq\n",
    "### Because some of 'em ask for \"how to do a queue with 2 stacks\""
   ]
  },
  {
   "cell_type": "code",
   "execution_count": 38,
   "metadata": {},
   "outputs": [],
   "source": [
    "class DeqString:\n",
    "    def __init__(self):\n",
    "        # What? There's nothing like \"stack\" in Python so we intentionally limit usage of an array to mimic one :(\n",
    "        self.stackInput = []\n",
    "        self.stackOutput = []\n",
    "\n",
    "    def push(self, item):\n",
    "        self.stackInput.append(item)\n",
    "        # No idea of chaining usecase, but why the hell no\n",
    "        return self\n",
    "    \n",
    "    def pop(self):\n",
    "        if len(self.stackOutput) == 0:\n",
    "            while len(self.stackInput) > 0:\n",
    "                self.stackOutput.append(self.stackInput.pop())\n",
    "        if len(self.stackOutput) > 0:\n",
    "            return self.stackOutput.pop()\n",
    "        return None\n",
    "    \n",
    "    def to_cs_string(self):\n",
    "        result = ''\n",
    "        val = self.pop()\n",
    "        while val != None:\n",
    "            if len(result) > 0:\n",
    "                result += ','\n",
    "            result += str(val)\n",
    "            val = self.pop()\n",
    "        return result\n",
    "        \n",
    "        "
   ]
  },
  {
   "cell_type": "markdown",
   "metadata": {},
   "source": [
    "## Fibonacci iterator"
   ]
  },
  {
   "cell_type": "code",
   "execution_count": 37,
   "metadata": {},
   "outputs": [
    {
     "name": "stdout",
     "output_type": "stream",
     "text": [
      "1,1,2,3,5,8,13,21,34\n"
     ]
    }
   ],
   "source": [
    "class FibIterator:\n",
    "    current = 1\n",
    "    __prev1 = 0\n",
    "    __prev2 = 1 \n",
    "\n",
    "    def __init__(self):\n",
    "        self.__iter__()\n",
    "\n",
    "    def __iter__(self):\n",
    "        self.current = 1\n",
    "        self.__prev2 = 1\n",
    "        return self\n",
    "\n",
    "    def __next__(self):\n",
    "        self.current = self.__prev1 + self.__prev2\n",
    "        self.__prev2 = self.__prev1\n",
    "        self.__prev1 = self.current\n",
    "        return self.current\n",
    "\n",
    "fib = FibIterator()\n",
    "deq = DeqString()\n",
    "for i in range(1, 10):\n",
    "    deq.push(next(fib))\n",
    "print(deq.to_cs_string())"
   ]
  },
  {
   "cell_type": "markdown",
   "metadata": {},
   "source": [
    "## Fibonacci generator"
   ]
  },
  {
   "cell_type": "code",
   "execution_count": 39,
   "metadata": {},
   "outputs": [
    {
     "name": "stdout",
     "output_type": "stream",
     "text": [
      "1,1,2,3,5,8,13,21,34,55,89,144,233,377\n"
     ]
    }
   ],
   "source": [
    "def fib_generator(limit):\n",
    "    if limit == None:\n",
    "        raise Exception('Limit should be provided')\n",
    "    prev1 = 0\n",
    "    prev2 = 1\n",
    "    current = 1\n",
    "    for _ in range(1, limit):\n",
    "        current = prev1 + prev2\n",
    "        prev2 = prev1\n",
    "        prev1 = current\n",
    "        yield current\n",
    "\n",
    "deq = DeqString()\n",
    "for item in fib_generator(15):\n",
    "    deq.push(item)\n",
    "print(deq.to_cs_string())"
   ]
  },
  {
   "cell_type": "markdown",
   "metadata": {},
   "source": [
    "# QuickSort"
   ]
  },
  {
   "cell_type": "code",
   "execution_count": 41,
   "metadata": {},
   "outputs": [
    {
     "name": "stdout",
     "output_type": "stream",
     "text": [
      "6,1,8,7,9,3,2,4,5,0\n",
      "0,1,2,3,4,5,6,7,8,9\n"
     ]
    }
   ],
   "source": [
    "import random\n",
    "\n",
    "def quicksort(arr: list):\n",
    "    if len(arr) <= 1:\n",
    "        return arr\n",
    "    left = []\n",
    "    right = []\n",
    "    eq = []\n",
    "    mid = arr[int(len(arr) / 2)]\n",
    "    for item in arr:\n",
    "        if item < mid:\n",
    "            left.append(item)\n",
    "        elif item > mid:\n",
    "            right.append(item)\n",
    "        else:\n",
    "            eq.append(item)\n",
    "    return quicksort(left) + eq + quicksort(right)\n",
    "\n",
    "dqs = DeqString()\n",
    "\n",
    "randarr = random.sample(range(0, 10), 10)\n",
    "for item in randarr:\n",
    "    dqs.push(item)\n",
    "print(dqs.to_cs_string())\n",
    "\n",
    "sortedarr = quicksort(randarr)\n",
    "for item in sortedarr:\n",
    "    dqs.push(item)\n",
    "print(dqs.to_cs_string())\n"
   ]
  },
  {
   "cell_type": "markdown",
   "metadata": {},
   "source": [
    "# Dijkstra"
   ]
  },
  {
   "cell_type": "code",
   "execution_count": 47,
   "metadata": {},
   "outputs": [
    {
     "name": "stdout",
     "output_type": "stream",
     "text": [
      "{'A': 0, 'B': 1, 'C': 1, 'D': 2}\n"
     ]
    }
   ],
   "source": [
    "class Dijkstra:\n",
    "    __graph = dict()\n",
    "\n",
    "    def __init__(self, graph):\n",
    "        self.__graph = graph\n",
    "    \n",
    "    def get_min_paths(self, start):\n",
    "        visited = set()\n",
    "        distances = dict()\n",
    "        nodes = list(self.__graph.keys())\n",
    "        for node in nodes:\n",
    "            distances[node] = float('inf')\n",
    "        distances[start] = 0\n",
    "\n",
    "        while len(nodes) > 0:\n",
    "            nodes.sort(key = lambda x: distances[x])\n",
    "            node = nodes.pop(0)\n",
    "\n",
    "            if distances[node] == float('inf'):\n",
    "                break\n",
    "\n",
    "            visited.add(node)\n",
    "\n",
    "            for neighbor in self.__graph[node]:\n",
    "                if neighbor in visited:\n",
    "                    continue\n",
    "                distance = distances[node] + self.__graph[node][neighbor]\n",
    "                if distance < distances[neighbor]:\n",
    "                    distances[neighbor] = distance\n",
    "        return distances\n",
    "    \n",
    "dij = Dijkstra({ \n",
    "    'A': { 'B': 1, 'C': 1 },\n",
    "    'B': { 'A': 1, 'C': 1 },\n",
    "    'C': { 'A': 1, 'B': 1, 'D': 1 },\n",
    "    'D': { 'C': 1 }\n",
    "})\n",
    "print(dij.get_min_paths('A'))\n"
   ]
  }
 ],
 "metadata": {
  "kernelspec": {
   "display_name": "Python 3",
   "language": "python",
   "name": "python3"
  },
  "language_info": {
   "codemirror_mode": {
    "name": "ipython",
    "version": 3
   },
   "file_extension": ".py",
   "mimetype": "text/x-python",
   "name": "python",
   "nbconvert_exporter": "python",
   "pygments_lexer": "ipython3",
   "version": "3.9.6"
  }
 },
 "nbformat": 4,
 "nbformat_minor": 2
}
